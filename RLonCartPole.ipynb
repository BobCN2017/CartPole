{
 "cells": [
  {
   "cell_type": "code",
   "execution_count": 1,
   "metadata": {
    "collapsed": false
   },
   "outputs": [
    {
     "name": "stderr",
     "output_type": "stream",
     "text": [
      "[2017-06-07 15:29:23,994] Making new env: CartPole-v0\n"
     ]
    }
   ],
   "source": [
    "import numpy as np\n",
    "import tensorflow as tf\n",
    "import gym\n",
    "env=gym.make('CartPole-v0')"
   ]
  },
  {
   "cell_type": "code",
   "execution_count": 2,
   "metadata": {
    "collapsed": false
   },
   "outputs": [
    {
     "name": "stdout",
     "output_type": "stream",
     "text": [
      "Reward for this episode was: 9.0\n",
      "Reward for this episode was: 11.0\n",
      "Reward for this episode was: 17.0\n",
      "Reward for this episode was: 16.0\n",
      "Reward for this episode was: 18.0\n",
      "Reward for this episode was: 33.0\n",
      "Reward for this episode was: 51.0\n",
      "Reward for this episode was: 32.0\n",
      "Reward for this episode was: 22.0\n",
      "Reward for this episode was: 15.0\n"
     ]
    }
   ],
   "source": [
    "env.reset()\n",
    "random_episodes=0\n",
    "reward_sum=0\n",
    "while random_episodes<10:\n",
    "#     env.render()\n",
    "    observation,reward,done,_=env.step(np.random.randint(0,2))\n",
    "    reward_sum+=reward\n",
    "    if done:\n",
    "        random_episodes+=1\n",
    "        print(\"Reward for this episode was:\",reward_sum)\n",
    "        reward_sum=0\n",
    "        env.reset()"
   ]
  },
  {
   "cell_type": "code",
   "execution_count": 3,
   "metadata": {
    "collapsed": true
   },
   "outputs": [],
   "source": [
    "H=50\n",
    "batch_size=25\n",
    "learning_rate=0.15\n",
    "D=4\n",
    "gamma=0.99\n"
   ]
  },
  {
   "cell_type": "code",
   "execution_count": 4,
   "metadata": {
    "collapsed": false
   },
   "outputs": [],
   "source": [
    "observations=tf.placeholder(tf.float32,[None,D],name=\"input_x\")\n",
    "w1=tf.get_variable(\"w1\",shape=[D,H],initializer=tf.contrib.layers.xavier_initializer())\n",
    "layer1=tf.nn.relu(tf.matmul(observations,w1))\n",
    "w2=tf.get_variable(\"w2\",shape=[H,1],initializer=tf.contrib.layers.xavier_initializer())\n",
    "score=tf.matmul(layer1,w2)\n",
    "probability=tf.nn.sigmoid(score)"
   ]
  },
  {
   "cell_type": "code",
   "execution_count": 5,
   "metadata": {
    "collapsed": false
   },
   "outputs": [],
   "source": [
    "adam=tf.train.AdamOptimizer(learning_rate=learning_rate)\n",
    "w1Grad=tf.placeholder(tf.float32,name=\"batch_grad1\")\n",
    "w2Grad=tf.placeholder(tf.float32,name=\"batch_grad2\")\n",
    "batchGrad=[w1Grad,w2Grad]\n",
    "\n",
    "tvars=tf.trainable_variables()\n",
    "updateGrads=adam.apply_gradients(zip(batchGrad,tvars))\n"
   ]
  },
  {
   "cell_type": "code",
   "execution_count": 6,
   "metadata": {
    "collapsed": true
   },
   "outputs": [],
   "source": [
    "def discount_rewards(r):\n",
    "    discounted_r = np.zeros_like(r)\n",
    "    running_add = 0\n",
    "    for t in reversed(range(r.size)):\n",
    "        running_add=running_add*gamma+r[t]\n",
    "        discounted_r[t]=running_add\n",
    "        \n",
    "    return discounted_r"
   ]
  },
  {
   "cell_type": "code",
   "execution_count": 7,
   "metadata": {
    "collapsed": false
   },
   "outputs": [],
   "source": [
    "input_y = tf.placeholder(tf.float32,[None,1],name=\"input_y\")\n",
    "advantages = tf.placeholder(tf.float32,name=\"reward_signal\")\n",
    "loglik=tf.log(input_y*(input_y-probability)+(1-input_y)*(input_y+probability))\n",
    "loss = -tf.reduce_mean(loglik*advantages)\n",
    "\n",
    "\n",
    "newGrads=tf.gradients(loss,tvars)"
   ]
  },
  {
   "cell_type": "code",
   "execution_count": 8,
   "metadata": {
    "collapsed": true
   },
   "outputs": [],
   "source": [
    "xs,ys,drs=[],[],[]\n",
    "reward_sum = 0\n",
    "episode_number = 1\n",
    "total_episodes=10000"
   ]
  },
  {
   "cell_type": "code",
   "execution_count": 9,
   "metadata": {
    "collapsed": false
   },
   "outputs": [
    {
     "name": "stdout",
     "output_type": "stream",
     "text": [
      "Average reward for episode 25 : 34.600000\n",
      "epx length 25 \n",
      "Average reward for episode 50 : 35.560000\n",
      "epx length 30 \n",
      "Average reward for episode 75 : 37.080000\n",
      "epx length 56 \n",
      "Average reward for episode 100 : 44.320000\n",
      "epx length 52 \n",
      "Average reward for episode 125 : 57.120000\n",
      "epx length 46 \n",
      "Average reward for episode 150 : 88.640000\n",
      "epx length 43 \n",
      "Average reward for episode 175 : 166.520000\n",
      "epx length 150 \n",
      "Average reward for episode 200 : 180.680000\n",
      "epx length 200 \n",
      "Average reward for episode 300 : 192.700000\n",
      "epx length 200 \n",
      "Average reward for episode 400 : 197.640000\n",
      "epx length 200 \n",
      "Task solved in 400 episodes!\n"
     ]
    }
   ],
   "source": [
    "with tf.Session() as sess:\n",
    "    rendering=False\n",
    "    init=tf.global_variables_initializer()\n",
    "    sess.run(init)\n",
    "    observation=env.reset()\n",
    "    \n",
    "    gradBuffer=sess.run(tvars)\n",
    "    for ix,grad in enumerate(gradBuffer):\n",
    "        gradBuffer[ix] = grad*0\n",
    "    control=True    \n",
    "    while episode_number <= total_episodes:\n",
    "        if reward_sum/batch_size > 190 or rendering == True:\n",
    "            env.render()\n",
    "            rendering=True\n",
    "            \n",
    "        x = np.reshape(observation,[1,D])\n",
    "        \n",
    "        tfprob = sess.run(probability,feed_dict={observations:x})\n",
    "        if control:\n",
    "            control=False\n",
    "            throttle=0.9\n",
    "        else:\n",
    "            control=True\n",
    "            throttle=0.1\n",
    "            \n",
    "        action  = 1 if  tfprob > throttle else 0\n",
    "        \n",
    "        xs.append(x)\n",
    "        y=1 - action\n",
    "        ys.append(y)\n",
    "        \n",
    "        observation,reward,done,infor=env.step(action)\n",
    "        reward_sum +=reward\n",
    "        drs.append(reward)\n",
    "        \n",
    "        if done:\n",
    "            episode_number+=1\n",
    "            epx = np.vstack(xs)\n",
    "            epy = np.vstack(ys)\n",
    "            epr = np.vstack(drs)\n",
    "            xs,ys,drs=[],[],[]\n",
    "            \n",
    "            discounted_epr= discount_rewards(epr)\n",
    "            discounted_epr -= np.mean(discounted_epr)\n",
    "            discounted_epr /= np.std(discounted_epr)\n",
    "            \n",
    "            tGrad = sess.run(newGrads,feed_dict={observations:epx,\n",
    "                                                 input_y:epy,advantages:discounted_epr})\n",
    "#             print(\"advantages:\",tf.shape(discounted_epr).eval())\n",
    "            for ix,grad in enumerate(tGrad):\n",
    "                gradBuffer[ix] +=grad\n",
    "            \n",
    "            if episode_number % batch_size == 0:\n",
    "                sess.run(updateGrads,feed_dict = {w1Grad:gradBuffer[0]\n",
    "                                                  ,w2Grad:gradBuffer[1]})\n",
    "                \n",
    "#                 print('w1Grag mean',gradBuffer[0],\n",
    "#                       'w2Grag mean',(tf.reduce_mean(gradBuffer[1])).eval()) \n",
    "                \n",
    "                for ix,grad in enumerate(gradBuffer):\n",
    "                    gradBuffer[ix] = grad*0\n",
    "                    \n",
    "                print('Average reward for episode %d : %f' %  \n",
    "                     (episode_number,reward_sum/batch_size))\n",
    "                \n",
    "                print('epx length %d ' %  len(epx) )   \n",
    "#                 print('w1Grag shape',(tf.shape(gradBuffer[0])).eval(),\n",
    "#                       'w2Grag shape',(tf.shape(gradBuffer[1])).eval())              \n",
    "                \n",
    "                if reward_sum/batch_size > 180:\n",
    "                    batch_size=100\n",
    "            \n",
    "                if reward_sum/batch_size > 195:\n",
    "                    print(\"Task solved in\",episode_number,'episodes!')\n",
    "                    break\n",
    "                    \n",
    "                reward_sum =0\n",
    "                \n",
    "            observation = env.reset()"
   ]
  },
  {
   "cell_type": "code",
   "execution_count": null,
   "metadata": {
    "collapsed": true
   },
   "outputs": [],
   "source": []
  }
 ],
 "metadata": {
  "anaconda-cloud": {},
  "kernelspec": {
   "display_name": "Python [conda root]",
   "language": "python",
   "name": "conda-root-py"
  },
  "language_info": {
   "codemirror_mode": {
    "name": "ipython",
    "version": 3
   },
   "file_extension": ".py",
   "mimetype": "text/x-python",
   "name": "python",
   "nbconvert_exporter": "python",
   "pygments_lexer": "ipython3",
   "version": "3.5.2"
  }
 },
 "nbformat": 4,
 "nbformat_minor": 1
}
