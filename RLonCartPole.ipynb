{
 "cells": [
  {
   "cell_type": "code",
   "execution_count": 1,
   "metadata": {
    "collapsed": false
   },
   "outputs": [
    {
     "name": "stderr",
     "output_type": "stream",
     "text": [
      "[2017-06-07 09:30:29,270] Making new env: CartPole-v0\n"
     ]
    }
   ],
   "source": [
    "import numpy as np\n",
    "import tensorflow as tf\n",
    "import gym\n",
    "env=gym.make('CartPole-v0')"
   ]
  },
  {
   "cell_type": "code",
   "execution_count": 2,
   "metadata": {
    "collapsed": false
   },
   "outputs": [
    {
     "name": "stdout",
     "output_type": "stream",
     "text": [
      "Reward for this episode was: 31.0\n",
      "Reward for this episode was: 36.0\n",
      "Reward for this episode was: 11.0\n",
      "Reward for this episode was: 49.0\n",
      "Reward for this episode was: 9.0\n",
      "Reward for this episode was: 16.0\n",
      "Reward for this episode was: 16.0\n",
      "Reward for this episode was: 23.0\n",
      "Reward for this episode was: 21.0\n",
      "Reward for this episode was: 14.0\n"
     ]
    }
   ],
   "source": [
    "env.reset()\n",
    "random_episodes=0\n",
    "reward_sum=0\n",
    "while random_episodes<10:\n",
    "    env.render()\n",
    "    observation,reward,done,_=env.step(np.random.randint(0,2))\n",
    "    reward_sum+=reward\n",
    "    if done:\n",
    "        random_episodes+=1\n",
    "        print(\"Reward for this episode was:\",reward_sum)\n",
    "        reward_sum=0\n",
    "        env.reset()"
   ]
  },
  {
   "cell_type": "code",
   "execution_count": 3,
   "metadata": {
    "collapsed": true
   },
   "outputs": [],
   "source": [
    "H=50\n",
    "batch_size=100\n",
    "learning_rate=0.1\n",
    "D=4\n",
    "gamma=0.99\n"
   ]
  },
  {
   "cell_type": "code",
   "execution_count": 4,
   "metadata": {
    "collapsed": false
   },
   "outputs": [],
   "source": [
    "observations=tf.placeholder(tf.float32,[None,D],name=\"input_x\")\n",
    "w1=tf.get_variable(\"w1\",shape=[D,H],initializer=tf.contrib.layers.xavier_initializer())\n",
    "layer1=tf.nn.relu(tf.matmul(observations,w1))\n",
    "w2=tf.get_variable(\"w2\",shape=[H,1],initializer=tf.contrib.layers.xavier_initializer())\n",
    "score=tf.matmul(layer1,w2)\n",
    "probability=tf.nn.sigmoid(score)"
   ]
  },
  {
   "cell_type": "code",
   "execution_count": 5,
   "metadata": {
    "collapsed": false
   },
   "outputs": [],
   "source": [
    "adam=tf.train.AdamOptimizer(learning_rate=learning_rate)\n",
    "w1Grad=tf.placeholder(tf.float32,name=\"batch_grad1\")\n",
    "w2Grad=tf.placeholder(tf.float32,name=\"batch_grad2\")\n",
    "batchGrad=[w1Grad,w2Grad]\n",
    "\n",
    "tvars=tf.trainable_variables()\n",
    "updateGrads=adam.apply_gradients(zip(batchGrad,tvars))\n"
   ]
  },
  {
   "cell_type": "code",
   "execution_count": 6,
   "metadata": {
    "collapsed": true
   },
   "outputs": [],
   "source": [
    "def discount_rewards(r):\n",
    "    discounted_r = np.zeros_like(r)\n",
    "    running_add = 0\n",
    "    for t in reversed(range(r.size)):\n",
    "        running_add=running_add*gamma+r[t]\n",
    "        discounted_r[t]=running_add\n",
    "        \n",
    "    return discounted_r"
   ]
  },
  {
   "cell_type": "code",
   "execution_count": 7,
   "metadata": {
    "collapsed": false
   },
   "outputs": [],
   "source": [
    "input_y = tf.placeholder(tf.float32,[None,1],name=\"input_y\")\n",
    "advantages = tf.placeholder(tf.float32,name=\"reward_signal\")\n",
    "loglik=tf.log(input_y*(input_y-probability)+(1-input_y)*(input_y+probability))\n",
    "loss = -tf.reduce_mean(loglik*advantages)\n",
    "\n",
    "newGrads=tf.gradients(loss,tvars)"
   ]
  },
  {
   "cell_type": "code",
   "execution_count": 8,
   "metadata": {
    "collapsed": true
   },
   "outputs": [],
   "source": [
    "xs,ys,drs=[],[],[]\n",
    "reward_sum = 0\n",
    "episode_number = 1\n",
    "total_episodes=10000"
   ]
  },
  {
   "cell_type": "code",
   "execution_count": 9,
   "metadata": {
    "collapsed": false
   },
   "outputs": [
    {
     "name": "stdout",
     "output_type": "stream",
     "text": [
      "w1Grag mean 0.0126181 w2Grag mean 0.204095\n",
      "Average reward for episode 100 : 25.890000\n",
      "epx length 19 \n",
      "w1Grag mean 0.00985628 w2Grag mean 0.0270873\n",
      "Average reward for episode 200 : 39.840000\n",
      "epx length 36 \n",
      "w1Grag mean 0.00142749 w2Grag mean -0.0110328\n",
      "Average reward for episode 300 : 52.710000\n",
      "epx length 36 \n",
      "w1Grag mean 0.0101844 w2Grag mean 0.027578\n",
      "Average reward for episode 400 : 63.370000\n",
      "epx length 35 \n",
      "w1Grag mean 0.00887699 w2Grag mean -8.47217e-05\n",
      "Average reward for episode 500 : 77.940000\n",
      "epx length 86 \n",
      "w1Grag mean -0.0257399 w2Grag mean 0.0144607\n",
      "Average reward for episode 600 : 106.870000\n",
      "epx length 132 \n",
      "w1Grag mean -0.0101716 w2Grag mean -0.063654\n",
      "Average reward for episode 700 : 124.870000\n",
      "epx length 157 \n",
      "w1Grag mean 0.00258066 w2Grag mean -0.173737\n",
      "Average reward for episode 800 : 156.470000\n",
      "epx length 91 \n",
      "w1Grag mean 0.00476721 w2Grag mean -0.0612272\n",
      "Average reward for episode 900 : 198.170000\n",
      "epx length 200 \n",
      "Task solved in 900 episodes!\n"
     ]
    }
   ],
   "source": [
    "with tf.Session() as sess:\n",
    "    rendering=False\n",
    "    init=tf.global_variables_initializer()\n",
    "    sess.run(init)\n",
    "    observation=env.reset()\n",
    "    \n",
    "    gradBuffer=sess.run(tvars)\n",
    "    for ix,grad in enumerate(gradBuffer):\n",
    "        gradBuffer[ix] = grad*0\n",
    "        \n",
    "    while episode_number <= total_episodes:\n",
    "        if reward_sum/batch_size > 150 or rendering == True:\n",
    "            env.render()\n",
    "            rendering=True\n",
    "            \n",
    "        x = np.reshape(observation,[1,D])\n",
    "        \n",
    "        tfprob = sess.run(probability,feed_dict={observations:x})\n",
    "        action  = 1 if np.random.uniform() < tfprob else 0\n",
    "        \n",
    "        xs.append(x)\n",
    "        y=1 - action\n",
    "        ys.append(y)\n",
    "        \n",
    "        observation,reward,done,infor=env.step(action)\n",
    "        reward_sum +=reward\n",
    "        drs.append(reward)\n",
    "        \n",
    "        if done:\n",
    "            episode_number+=1\n",
    "            epx = np.vstack(xs)\n",
    "            epy = np.vstack(ys)\n",
    "            epr = np.vstack(drs)\n",
    "            xs,ys,drs=[],[],[]\n",
    "            \n",
    "            discounted_epr= discount_rewards(epr)\n",
    "            discounted_epr -= np.mean(discounted_epr)\n",
    "            discounted_epr /= np.std(discounted_epr)\n",
    "            \n",
    "            tGrad = sess.run(newGrads,feed_dict={observations:epx,\n",
    "                                                 input_y:epy,advantages:discounted_epr})\n",
    "            for ix,grad in enumerate(tGrad):\n",
    "                gradBuffer[ix] +=grad\n",
    "            \n",
    "            if episode_number % batch_size == 0:\n",
    "                sess.run(updateGrads,feed_dict = {w1Grad:gradBuffer[0]\n",
    "                                                  ,w2Grad:gradBuffer[1]})\n",
    "                \n",
    "                print('w1Grag mean',(tf.reduce_mean(gradBuffer[0])).eval(),\n",
    "                      'w2Grag mean',(tf.reduce_mean(gradBuffer[1])).eval()) \n",
    "                \n",
    "                for ix,grad in enumerate(gradBuffer):\n",
    "                    gradBuffer[ix] = grad*0\n",
    "                    \n",
    "                print('Average reward for episode %d : %f' %  \n",
    "                     (episode_number,reward_sum/batch_size))\n",
    "                \n",
    "                print('epx length %d ' %  len(epx) )   \n",
    "#                 print('w1Grag shape',(tf.shape(gradBuffer[0])).eval(),\n",
    "#                       'w2Grag shape',(tf.shape(gradBuffer[1])).eval())              \n",
    "                \n",
    "                \n",
    "                if reward_sum/batch_size > 195:\n",
    "                    print(\"Task solved in\",episode_number,'episodes!')\n",
    "                    break\n",
    "                    \n",
    "                reward_sum =0\n",
    "                \n",
    "            observation = env.reset()"
   ]
  },
  {
   "cell_type": "code",
   "execution_count": null,
   "metadata": {
    "collapsed": true
   },
   "outputs": [],
   "source": []
  }
 ],
 "metadata": {
  "anaconda-cloud": {},
  "kernelspec": {
   "display_name": "Python [conda root]",
   "language": "python",
   "name": "conda-root-py"
  },
  "language_info": {
   "codemirror_mode": {
    "name": "ipython",
    "version": 3
   },
   "file_extension": ".py",
   "mimetype": "text/x-python",
   "name": "python",
   "nbconvert_exporter": "python",
   "pygments_lexer": "ipython3",
   "version": "3.5.2"
  }
 },
 "nbformat": 4,
 "nbformat_minor": 1
}
