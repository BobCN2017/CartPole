{
 "cells": [
  {
   "cell_type": "code",
   "execution_count": null,
   "metadata": {
    "collapsed": false
   },
   "outputs": [],
   "source": [
    "import numpy as np\n",
    "import tensorflow as tf\n",
    "import gym\n",
    "env=gym.make('CartPole-v0')"
   ]
  },
  {
   "cell_type": "code",
   "execution_count": null,
   "metadata": {
    "collapsed": false
   },
   "outputs": [],
   "source": [
    "env.reset()\n",
    "random_episodes=0\n",
    "reward_sum=0\n",
    "while random_episodes<10:\n",
    "    env.render()\n",
    "    observation,reward,done,_=env.step(np.random.randint(0,2))\n",
    "    reward_sum+=reward\n",
    "    if done:\n",
    "        random_episodes+=1\n",
    "        print(\"Reward for this episode was:\",reward_sum)\n",
    "        reward_sum=0\n",
    "        env.reset()"
   ]
  },
  {
   "cell_type": "code",
   "execution_count": null,
   "metadata": {
    "collapsed": true
   },
   "outputs": [],
   "source": [
    "H=50\n",
    "batch_size=25\n",
    "learning_rate=0.1\n",
    "D=4\n",
    "gamma=0.99\n"
   ]
  },
  {
   "cell_type": "code",
   "execution_count": null,
   "metadata": {
    "collapsed": true
   },
   "outputs": [],
   "source": [
    "observations=tf.placeholder(tf.float32,[None,D],name=\"input_x\")\n",
    "w1=tf.get_variable(\"w1\",shape=[D,H],initializer=tf.contrib.layers.xavier_initializer())\n",
    "layer1=tf.nn.relu(tf.matmul(observations,w1))\n",
    "w2=tf.get_variable(\"w2\",shape=[H,1],initializer=tf.contrib.layers.xavier_initializer())\n",
    "score=tf.matmul(layer1,w2)\n",
    "probability=tf.nn.sigmoid(score)"
   ]
  },
  {
   "cell_type": "code",
   "execution_count": null,
   "metadata": {
    "collapsed": false
   },
   "outputs": [],
   "source": [
    "adam=tf.train.AdamOptimizer(learning_rate=learning_rate)\n",
    "w1Grad=tf.placeholder(tf.float32,name=\"batch_grad1\")\n",
    "w2Grad=tf.placeholder(tf.float32,name=\"batch_grad2\")\n",
    "batchGrad=[w1Grad,w2Grad]\n",
    "\n",
    "tvars=tf.trainable_variables()\n",
    "updateGrads=adam.apply_gradients(zip(batchGrad,tvars))\n"
   ]
  },
  {
   "cell_type": "code",
   "execution_count": null,
   "metadata": {
    "collapsed": true
   },
   "outputs": [],
   "source": [
    "def discount_rewards(r):\n",
    "    discounted_r = np.zeros_like(r)\n",
    "    running_add = 0\n",
    "    for t in reversed(range(r.size)):\n",
    "        running_add=running_add*gamma+r[t]\n",
    "        discounted_r[t]=running_add\n",
    "        \n",
    "    return discounted_r"
   ]
  },
  {
   "cell_type": "code",
   "execution_count": null,
   "metadata": {
    "collapsed": false
   },
   "outputs": [],
   "source": [
    "input_y = tf.placeholder(tf.float32,[None,1],name=\"input_y\")\n",
    "advantages = tf.placeholder(tf.float32,name=\"reward_signal\")\n",
    "loglik=tf.log(input_y*(input_y-probability)+(1-input_y)*(input_y+probability))\n",
    "loss = -tf.reduce_mean(loglik*advantages)\n",
    "\n",
    "newGrads=tf.gradients(loss,tvars)"
   ]
  },
  {
   "cell_type": "code",
   "execution_count": null,
   "metadata": {
    "collapsed": true
   },
   "outputs": [],
   "source": [
    "xs,ys,drs=[],[],[]\n",
    "reward_sum = 0\n",
    "episode_number = 1\n",
    "total_episodes=10000"
   ]
  },
  {
   "cell_type": "code",
   "execution_count": null,
   "metadata": {
    "collapsed": false
   },
   "outputs": [],
   "source": [
    "with tf.Session() as sess:\n",
    "    rendering=False\n",
    "    init=tf.global_variables_initializer()\n",
    "    sess.run(init)\n",
    "    observation=env.reset()\n",
    "    \n",
    "    gradBuffer=sess.run(tvars)\n",
    "    for ix,grad in enumerate(gradBuffer):\n",
    "        gradBuffer[ix] = grad*0\n",
    "        \n",
    "    while episode_number <= total_episodes:\n",
    "        if reward_sum/batch_size > 100 or rendering == True:\n",
    "            env.render()\n",
    "            rendering=True\n",
    "            \n",
    "        x = np.reshape(observation,[1,D])\n",
    "        \n",
    "        tfprob = sess.run(probability,feed_dict={observations:x})\n",
    "        action  = 1 if np.random.uniform() < tfprob else 0\n",
    "        \n",
    "        xs.append(x)\n",
    "        y=1 - action\n",
    "        ys.append(y)\n",
    "        \n",
    "        observation,reward,done,infor=env.step(action)\n",
    "        reward_sum +=reward\n",
    "        drs.append(reward)\n",
    "        \n",
    "        if done:\n",
    "            episode_number+=1\n",
    "            epx = np.vstack(xs)\n",
    "            epy = np.vstack(ys)\n",
    "            epr = np.vstack(drs)\n",
    "            xs,ys,drs=[],[],[]\n",
    "            \n",
    "            discounted_epr= discount_rewards(epr)\n",
    "            discounted_epr -= np.mean(discounted_epr)\n",
    "            discounted_epr /= np.std(discounted_epr)\n",
    "            \n",
    "            tGrad = sess.run(newGrads,feed_dict={observations:epx,\n",
    "                                                 input_y:epy,advantages:discounted_epr})\n",
    "            for ix,grad in enumerate(tGrad):\n",
    "                gradBuffer[ix] +=grad\n",
    "            \n",
    "            if episode_number % batch_size == 0:\n",
    "                sess.run(updateGrads,feed_dict = {w1Grad:gradBuffer[0]\n",
    "                                                  ,w2Grad:gradBuffer[1]})\n",
    "                for ix,grad in enumerate(gradBuffer):\n",
    "                    gradBuffer[ix] = grad*0\n",
    "                    \n",
    "                print('Average reward for episode %d : %f' %  \n",
    "                     (episode_number,reward_sum/batch_size))\n",
    "                \n",
    "                if reward_sum/batch_size > 200:\n",
    "                    print(\"Task solved in\",episode_number,'episodes!')\n",
    "                    break\n",
    "                    \n",
    "                reward_sum =0\n",
    "                \n",
    "            observation = env.reset()"
   ]
  },
  {
   "cell_type": "code",
   "execution_count": null,
   "metadata": {
    "collapsed": true
   },
   "outputs": [],
   "source": []
  }
 ],
 "metadata": {
  "anaconda-cloud": {},
  "kernelspec": {
   "display_name": "Python [conda root]",
   "language": "python",
   "name": "conda-root-py"
  },
  "language_info": {
   "codemirror_mode": {
    "name": "ipython",
    "version": 3
   },
   "file_extension": ".py",
   "mimetype": "text/x-python",
   "name": "python",
   "nbconvert_exporter": "python",
   "pygments_lexer": "ipython3",
   "version": "3.5.2"
  }
 },
 "nbformat": 4,
 "nbformat_minor": 1
}
